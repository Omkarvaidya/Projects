{
 "cells": [
  {
   "cell_type": "code",
   "execution_count": 17,
   "id": "70b281a9",
   "metadata": {},
   "outputs": [
    {
     "name": "stdout",
     "output_type": "stream",
     "text": [
      "Store with maximum sales: Store 20 with sales $301397792.46\n"
     ]
    }
   ],
   "source": [
    "import pandas as pd\n",
    "import numpy as np\n",
    "import matplotlib.pyplot as plt\n",
    "import seaborn as sns\n",
    "from sklearn.linear_model import LinearRegression\n",
    "from sklearn.metrics import mean_squared_error, r2_score\n",
    "from sklearn.model_selection import train_test_split\n",
    "import datetime as dt\n",
    "\n",
    "# Load data\n",
    "data = pd.read_csv('Walmart_Store_sales.csv')\n",
    "\n",
    "# Convert 'Date' column to datetime with the correct format\n",
    "data['Date'] = pd.to_datetime(data['Date'], format='%d-%m-%Y')\n",
    "\n",
    "# total sales per store\n",
    "total_sales_per_store = data.groupby('Store')['Weekly_Sales'].sum()\n",
    "\n",
    "#store with maximum sales\n",
    "max_sales_store = total_sales_per_store.idxmax()\n",
    "max_sales_value = total_sales_per_store.max()\n",
    "\n",
    "print(f\"Store with maximum sales: Store {max_sales_store} with sales ${max_sales_value}\")"
   ]
  },
  {
   "cell_type": "code",
   "execution_count": 18,
   "id": "abd917a7",
   "metadata": {},
   "outputs": [
    {
     "name": "stdout",
     "output_type": "stream",
     "text": [
      "Store with maximum standard deviation: Store 14 with standard deviation $317569.9494755081\n",
      "Coefficient of variation for Store 14: 0.15713673600948333\n"
     ]
    }
   ],
   "source": [
    "# standard deviation and mean sales per store\n",
    "std_sales_per_store = data.groupby('Store')['Weekly_Sales'].std()\n",
    "mean_sales_per_store = data.groupby('Store')['Weekly_Sales'].mean()\n",
    "\n",
    "#store with maximum standard deviation\n",
    "max_std_store = std_sales_per_store.idxmax()\n",
    "max_std_value = std_sales_per_store.max()\n",
    "\n",
    "# coefficient of variation (CV)\n",
    "cv_sales_per_store = std_sales_per_store / mean_sales_per_store\n",
    "\n",
    "print(f\"Store with maximum standard deviation: Store {max_std_store} with standard deviation ${max_std_value}\")\n",
    "print(f\"Coefficient of variation for Store {max_std_store}: {cv_sales_per_store[max_std_store]}\")"
   ]
  },
  {
   "cell_type": "code",
   "execution_count": 20,
   "id": "c0927871",
   "metadata": {},
   "outputs": [
    {
     "name": "stdout",
     "output_type": "stream",
     "text": [
      "Stores with good quarterly growth rate in Q3 2012:\n",
      "Store\n",
      "7     0.133308\n",
      "16    0.084884\n",
      "35    0.044666\n",
      "26    0.039555\n",
      "39    0.024784\n",
      "41    0.024570\n",
      "44    0.024346\n",
      "24    0.016521\n",
      "40    0.011428\n",
      "23    0.008254\n",
      "Name: Weekly_Sales, dtype: float64\n"
     ]
    }
   ],
   "source": [
    "# Filter data for Q3 2012\n",
    "q3_2012 = data[(data['Date'] >= '2012-07-01') & (data['Date'] <= '2012-09-30')]\n",
    "\n",
    "#total sales per store for Q3 2012 and previous quarter (Q2 2012)\n",
    "q2_2012 = data[(data['Date'] >= '2012-04-01') & (data['Date'] <= '2012-06-30')]\n",
    "\n",
    "total_sales_q3_2012 = q3_2012.groupby('Store')['Weekly_Sales'].sum()\n",
    "total_sales_q2_2012 = q2_2012.groupby('Store')['Weekly_Sales'].sum()\n",
    "\n",
    "# quarterly growth rate\n",
    "quarterly_growth_rate = (total_sales_q3_2012 - total_sales_q2_2012) / total_sales_q2_2012\n",
    "\n",
    "#stores with positive growth rate\n",
    "good_growth_stores = quarterly_growth_rate[quarterly_growth_rate > 0].sort_values(ascending=False)\n",
    "\n",
    "print(\"Stores with good quarterly growth rate in Q3 2012:\")\n",
    "print(good_growth_stores)\n",
    "\n"
   ]
  },
  {
   "cell_type": "code",
   "execution_count": 21,
   "id": "bcad1951",
   "metadata": {},
   "outputs": [
    {
     "name": "stdout",
     "output_type": "stream",
     "text": [
      "Holidays with higher sales than the mean sales in non-holiday season:\n",
      "Date\n",
      "2010-02-12    1.074148e+06\n",
      "2010-11-26    1.462689e+06\n",
      "2011-02-11    1.051915e+06\n",
      "2011-11-25    1.479858e+06\n",
      "2012-02-10    1.111320e+06\n",
      "2012-09-07    1.074001e+06\n",
      "Name: Weekly_Sales, dtype: float64\n"
     ]
    }
   ],
   "source": [
    "# mean sales for non-holiday weeks\n",
    "non_holiday_sales_mean = data[data['Holiday_Flag'] == 0]['Weekly_Sales'].mean()\n",
    "\n",
    "# Filter data for holiday weeks\n",
    "holiday_sales = data[data['Holiday_Flag'] == 1]\n",
    "\n",
    "# mean sales for each holiday\n",
    "holiday_mean_sales = holiday_sales.groupby('Date')['Weekly_Sales'].mean()\n",
    "\n",
    "# holidays with higher sales than non-holiday mean sales\n",
    "higher_holiday_sales = holiday_mean_sales[holiday_mean_sales > non_holiday_sales_mean]\n",
    "\n",
    "print(\"Holidays with higher sales than the mean sales in non-holiday season:\")\n",
    "print(higher_holiday_sales)"
   ]
  },
  {
   "cell_type": "code",
   "execution_count": 22,
   "id": "414559be",
   "metadata": {},
   "outputs": [
    {
     "name": "stdout",
     "output_type": "stream",
     "text": [
      "Monthly sales:\n",
      "Month\n",
      "1     3.325984e+08\n",
      "2     5.687279e+08\n",
      "3     5.927859e+08\n",
      "4     6.468598e+08\n",
      "5     5.571256e+08\n",
      "6     6.226299e+08\n",
      "7     6.500010e+08\n",
      "8     6.130902e+08\n",
      "9     5.787612e+08\n",
      "10    5.847848e+08\n",
      "11    4.130157e+08\n",
      "12    5.768386e+08\n",
      "Name: Weekly_Sales, dtype: float64\n",
      "\n",
      "Semester sales:\n",
      "Semester\n",
      "2010-02    1.903330e+08\n",
      "2010-03    1.819198e+08\n",
      "2010-04    2.314124e+08\n",
      "2010-05    1.867109e+08\n",
      "2010-06    1.922462e+08\n",
      "2010-07    2.325801e+08\n",
      "2010-08    1.876401e+08\n",
      "2010-09    1.772679e+08\n",
      "2010-10    2.171618e+08\n",
      "2010-11    2.028534e+08\n",
      "2010-12    2.887605e+08\n",
      "2011-01    1.637040e+08\n",
      "2011-02    1.863313e+08\n",
      "2011-03    1.793564e+08\n",
      "2011-04    2.265265e+08\n",
      "2011-05    1.816482e+08\n",
      "2011-06    1.897734e+08\n",
      "2011-07    2.299114e+08\n",
      "2011-08    1.885993e+08\n",
      "2011-09    2.208477e+08\n",
      "2011-10    1.832613e+08\n",
      "2011-11    2.101624e+08\n",
      "2011-12    2.880781e+08\n",
      "2012-01    1.688945e+08\n",
      "2012-02    1.920636e+08\n",
      "2012-03    2.315097e+08\n",
      "2012-04    1.889209e+08\n",
      "2012-05    1.887665e+08\n",
      "2012-06    2.406103e+08\n",
      "2012-07    1.875095e+08\n",
      "2012-08    2.368508e+08\n",
      "2012-09    1.806455e+08\n",
      "2012-10    1.843617e+08\n",
      "Freq: 6M, Name: Weekly_Sales, dtype: float64\n"
     ]
    }
   ],
   "source": [
    "# Extract month and semester from Date\n",
    "data['Month'] = data['Date'].dt.month\n",
    "data['Semester'] = data['Date'].dt.to_period('6M')\n",
    "\n",
    "# monthly sales\n",
    "monthly_sales = data.groupby('Month')['Weekly_Sales'].sum()\n",
    "\n",
    "#semester sales\n",
    "semester_sales = data.groupby('Semester')['Weekly_Sales'].sum()\n",
    "\n",
    "print(\"Monthly sales:\")\n",
    "print(monthly_sales)\n",
    "print(\"\\nSemester sales:\")\n",
    "print(semester_sales)\n"
   ]
  },
  {
   "cell_type": "code",
   "execution_count": 25,
   "id": "2b26954a",
   "metadata": {},
   "outputs": [
    {
     "name": "stdout",
     "output_type": "stream",
     "text": [
      "Mean Squared Error: 23950342320.389275\n",
      "R-squared: 0.009792471764679345\n"
     ]
    }
   ],
   "source": [
    "# Filter data for Store 1\n",
    "store1_data = data[data['Store'] == 1].copy()\n",
    "\n",
    "# Create a new variable for day numbers starting from the earliest date\n",
    "store1_data.loc[:, 'Day_Number'] = (store1_data['Date'] - store1_data['Date'].min()).dt.days\n",
    "\n",
    "# Features and target variable\n",
    "X = store1_data[['Day_Number', 'CPI', 'Unemployment', 'Fuel_Price']]\n",
    "y = store1_data['Weekly_Sales']\n",
    "\n",
    "# Split data into training and testing sets\n",
    "X_train, X_test, y_train, y_test = train_test_split(X, y, test_size=0.2, random_state=42)\n",
    "\n",
    "# Create and train the model\n",
    "model = LinearRegression()\n",
    "model.fit(X_train, y_train)\n",
    "\n",
    "# Make predictions\n",
    "y_pred = model.predict(X_test)\n",
    "\n",
    "# Evaluate the model\n",
    "mse = mean_squared_error(y_test, y_pred)\n",
    "r2 = r2_score(y_test, y_pred)\n",
    "\n",
    "print(f\"Mean Squared Error: {mse}\")\n",
    "print(f\"R-squared: {r2}\")\n"
   ]
  },
  {
   "cell_type": "code",
   "execution_count": null,
   "id": "38ad9175",
   "metadata": {},
   "outputs": [],
   "source": []
  },
  {
   "cell_type": "code",
   "execution_count": null,
   "id": "3dd45a3f",
   "metadata": {},
   "outputs": [],
   "source": []
  }
 ],
 "metadata": {
  "kernelspec": {
   "display_name": "Python 3 (ipykernel)",
   "language": "python",
   "name": "python3"
  },
  "language_info": {
   "codemirror_mode": {
    "name": "ipython",
    "version": 3
   },
   "file_extension": ".py",
   "mimetype": "text/x-python",
   "name": "python",
   "nbconvert_exporter": "python",
   "pygments_lexer": "ipython3",
   "version": "3.11.7"
  }
 },
 "nbformat": 4,
 "nbformat_minor": 5
}
